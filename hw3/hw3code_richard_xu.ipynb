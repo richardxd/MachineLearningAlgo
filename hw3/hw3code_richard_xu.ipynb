{
 "cells": [
  {
   "cell_type": "code",
   "execution_count": 21,
   "metadata": {},
   "outputs": [
    {
     "name": "stdout",
     "output_type": "stream",
     "text": [
      "70000\n"
     ]
    }
   ],
   "source": [
    "# %matplotlib inline\n",
    "import matplotlib.pyplot as plt\n",
    "import numpy as np\n",
    "\n",
    "\n",
    "data_address = \"../hw1/LSDA_data/mnist/MNIST_data.npy\"\n",
    "data_label = \"../hw1/LSDA_data/mnist/MNIST_labels.npy\"\n",
    "data = np.float64(np.load(data_address)/255)\n",
    "label = np.float32(np.load(data_label))\n",
    "\n",
    "print(len(data))\n",
    "\n",
    "def show_images(examples, nrows, ncols):\n",
    "    plt.figure(figsize=(ncols*2, nrows*2))\n",
    "    for i in range(nrows*ncols):\n",
    "        plt.subplot(nrows, ncols, i+1)\n",
    "        plt.imshow(examples[i].reshape((28,28)), cmap='gray')\n",
    "        plt.axis('off')\n",
    "    plt.show()"
   ]
  },
  {
   "cell_type": "code",
   "execution_count": 22,
   "metadata": {},
   "outputs": [
    {
     "data": {
      "image/png": "[encoded data removed]",
      "text/plain": [
       "<Figure size 720x576 with 20 Axes>"
      ]
     },
     "metadata": {
      "needs_background": "light"
     },
     "output_type": "display_data"
    }
   ],
   "source": [
    "show_images(data, 4, 5 )"
   ]
  },
  {
   "cell_type": "code",
   "execution_count": 23,
   "metadata": {},
   "outputs": [],
   "source": [
    "# perform PCA to extract principal components of the training data\n",
    "# may not use PCA library\n",
    "\n",
    "import sklearn\n",
    "import scipy\n",
    "from numpy import linalg as LA\n",
    "\n",
    "# given a set of vectors of n dimension, compute the PCA of them.\n",
    "# i.e., return the first top k eigenvectors of S\n",
    "\n",
    "def PCA(X,k):\n",
    "    # assume that the given vector are column vectors. If not, pass down column vectors \n",
    "    print(\"1st line\")\n",
    "    X_bar = np.mean(X, axis=0)\n",
    "    print(\"2nd line\")\n",
    "    # print(\"X_bar s: \", X_bar)\n",
    "    X_tilde = X - X_bar\n",
    "    # print(\"X_tilde is: \", X_tilde)\n",
    "    print(\"this step is finished1\")\n",
    "    print(\"shape of X: \", X.shape)\n",
    "    S = np.cov(X_tilde.T)\n",
    "    S2 = np.zeros(X.shape)\n",
    "    n = len(X)\n",
    "    for i in range(n):\n",
    "        S2 = S2 + 1 / n * (X[i].T @ X[i])\n",
    "    print(\"this step is finished2\")\n",
    "    # print(\"S: \", S)\n",
    "    # compute the eigenvalues along with the eigenvectors\n",
    "    # since S is symmetric we can use eigh instead of eig\n",
    "    w,v = LA.eigh(S)\n",
    "    print(\"w is: \", w)\n",
    "    print(\"v is: \", v)\n",
    "    # sort the pair of eigenvalues and eigenvectors\n",
    "    # credti to https://stackoverflow.com/questions/8092920/sort-eigenvalues-and-associated-eigenvectors-after-using-numpy-linalg-eig-in-pyt for sorting eigenvalues\n",
    "    idx = w.argsort()[::-1]\n",
    "    w = w[idx]\n",
    "    v = v[:,idx]\n",
    "    # V = np.vstack([w[i] for i in range(k)])\n",
    "    print(\"v is: \", v[:,:k])\n",
    "    print(\"w is:\", w[:k])\n",
    "    print(\"size of w:\", len(w))\n",
    "    return v[:,:k], w[:k]\n"
   ]
  },
  {
   "cell_type": "code",
   "execution_count": 24,
   "metadata": {},
   "outputs": [
    {
     "name": "stdout",
     "output_type": "stream",
     "text": [
      "X is:  [[0. 0. 0. ... 0. 0. 0.]\n",
      " [0. 0. 0. ... 0. 0. 0.]\n",
      " [0. 0. 0. ... 0. 0. 0.]\n",
      " ...\n",
      " [0. 0. 0. ... 0. 0. 0.]\n",
      " [0. 0. 0. ... 0. 0. 0.]\n",
      " [0. 0. 0. ... 0. 0. 0.]]\n",
      "1st line\n",
      "2nd line\n",
      "this step is finished1\n",
      "shape of X:  (70000, 784)\n"
     ]
    }
   ],
   "source": [
    "# display the top 10 principal components as images:\n",
    "print(\"X is: \", data)\n",
    "\n",
    "v,w = PCA(data, 10)\n",
    "show_images(v.T, 2, 5)\n",
    "\n",
    "\n",
    "V,W = PCA(data, 784)\n",
    "plt.plot(W)\n",
    "plt.title(label=\"Variances of all the principal components\")\n",
    "plt.show()\n",
    "        \n",
    "\n",
    "\n",
    "# plot the variance, or the singular values. \n"
   ]
  },
  {
   "cell_type": "code",
   "execution_count": null,
   "metadata": {},
   "outputs": [],
   "source": []
  },
  {
   "cell_type": "code",
   "execution_count": null,
   "metadata": {},
   "outputs": [],
   "source": []
  }
 ],
 "metadata": {
  "interpreter": {
   "hash": "903cfe36dbc49260dd652905b216718caea4696068a27f69fafd57db03a77813"
  },
  "kernelspec": {
   "display_name": "Python 3.10.4 64-bit",
   "language": "python",
   "name": "python3"
  },
  "language_info": {
   "codemirror_mode": {
    "name": "ipython",
    "version": 3
   },
   "file_extension": ".py",
   "mimetype": "text/x-python",
   "name": "python",
   "nbconvert_exporter": "python",
   "pygments_lexer": "ipython3",
   "version": "3.10.4"
  },
  "orig_nbformat": 4
 },
 "nbformat": 4,
 "nbformat_minor": 2
}
